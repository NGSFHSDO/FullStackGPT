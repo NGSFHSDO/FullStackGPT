{
 "cells": [
  {
   "cell_type": "code",
   "execution_count": 14,
   "id": "8031aec2",
   "metadata": {},
   "outputs": [],
   "source": [
    "from langchain_google_genai import ChatGoogleGenerativeAI\n",
    "from langchain.callbacks import StreamingStdOutCallbackHandler\n",
    "from dotenv import load_dotenv\n",
    "load_dotenv()\n",
    "\n",
    "llm = ChatGoogleGenerativeAI(\n",
    "    model=\"gemini-2.5-pro\",\n",
    "    callbacks=[StreamingStdOutCallbackHandler()]\n",
    ")\n"
   ]
  },
  {
   "cell_type": "code",
   "execution_count": 15,
   "id": "23bde493",
   "metadata": {},
   "outputs": [
    {
     "data": {
      "text/plain": [
       "'Of course! That\\'s a very common and important question.\\n\\nThe answer depends entirely on **which service** you are asking about. To help you, I\\'ll cover the most likely scenarios.\\n\\n### 1. If you\\'re asking about the cost of using me (this AI model):\\n\\n*   **For General Users (like our current chat):** Using this AI in a standard chat interface (like on Google, a dedicated app, etc.) is typically **free**. There may be premium subscription plans (like Gemini Advanced or ChatGPT Plus) that offer access to more powerful models, higher usage limits, and extra features. You would check the pricing for those on their specific product pages.\\n*   **For Developers (using the API):** If you are a developer using the AI through an API (Application Programming Interface) to build your own applications, there is a usage-based fee. This is usually calculated per \"token\" (a piece of a word). You can find the exact rates on the official pricing page for the platform you are using.\\n    *   **Google AI Platform / Vertex AI:** [https://cloud.google.com/vertex-ai/pricing](https://cloud.google.com/vertex-ai/pricing)\\n    *   **OpenAI (for models like GPT):** [https://openai.com/pricing](https://openai.com/pricing)\\n\\n---\\n\\n### 2. For Any Other Service (General Guide)\\n\\nIf you\\'re asking about a different service (like your phone plan, a software subscription, or a utility), here is a step-by-step guide on where to check for usage fees.\\n\\n#### **Step 1: Your Account Dashboard or Portal**\\nThis is almost always the best place to start. Log in to your account on the service\\'s official website or app.\\n\\n*   **Look for sections named:**\\n    *   `Billing`\\n    *   `Usage`\\n    *   `Subscription`\\n    *   `My Account`\\n    *   `Plan Details`\\n*   **Examples:**\\n    *   **Mobile Phone Carrier (e.g., Verizon, T-Mobile):** Log in to their app or website. The main dashboard usually shows your data, talk, and text usage for the current cycle.\\n    *   **Cloud Services (e.g., AWS, Google Cloud):** These have detailed billing dashboards where you can see usage costs broken down by each service you\\'ve used.\\n    *   **Software (e.g., Adobe, Microsoft 365):** Your account page will show your current subscription plan and any additional charges.\\n\\n#### **Step 2: The Official Website\\'s Pricing Page**\\nIf you are not yet a customer or just want to see the general rate structure, go to the service\\'s website.\\n\\n*   Look for a link in the main navigation menu or footer labeled **\"Pricing\"** or **\"Plans.\"** This will show you the different tiers and what is included in each.\\n\\n#### **Step 3: Check Your Invoices or Statements**\\nYour past bills are a perfect record of what you were charged for.\\n\\n*   These are usually sent to your email or can be downloaded from your account portal (see Step 1).\\n*   The invoice will provide a line-by-line breakdown of charges, including base fees, usage fees (e.g., \"data overage\"), and taxes.\\n\\n#### **Step 4: Contact Customer Support**\\nIf you can\\'t find the information online or don\\'t understand the charges, the most direct way to get an answer is to contact support.\\n\\n*   Look for a **\"Contact Us\"** or **\"Support\"** link on their website.\\n*   You can often reach them via phone, live chat, or email.\\n\\nTo give you the most accurate answer, could you tell me **which specific service you are asking about?**'"
      ]
     },
     "execution_count": 15,
     "metadata": {},
     "output_type": "execute_result"
    }
   ],
   "source": [
    "llm.predict(\"where can i check usage fee?\")"
   ]
  }
 ],
 "metadata": {
  "kernelspec": {
   "display_name": "env (3.11.5)",
   "language": "python",
   "name": "python3"
  },
  "language_info": {
   "codemirror_mode": {
    "name": "ipython",
    "version": 3
   },
   "file_extension": ".py",
   "mimetype": "text/x-python",
   "name": "python",
   "nbconvert_exporter": "python",
   "pygments_lexer": "ipython3",
   "version": "3.11.5"
  }
 },
 "nbformat": 4,
 "nbformat_minor": 5
}
