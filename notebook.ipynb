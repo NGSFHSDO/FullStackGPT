{
 "cells": [
  {
   "cell_type": "code",
   "execution_count": 9,
   "id": "abad5563",
   "metadata": {},
   "outputs": [
    {
     "data": {
      "text/plain": [
       "'죄송합니다. 저는 현재 실시간으로 시장 정보를 제공할 수 없습니다. 하지만 kospi 시장은 다양한 요인에 의해 변동이 있을 수 있으니, 관련 뉴스나 금융 사이트를 참고하시는 것을 추천드립니다.'"
      ]
     },
     "execution_count": 9,
     "metadata": {},
     "output_type": "execute_result"
    }
   ],
   "source": [
    "from langchain.chat_models import ChatOpenAI\n",
    "from langchain.prompts import PromptTemplate, ChatPromptTemplate\n",
    "chat = ChatOpenAI(temperature=0.2)\n",
    "template = PromptTemplate.from_template(\n",
    "    \"오늘의 {stock}시장이 어떤거같아?\"\n",
    ")\n",
    "prompt_1 = template.format(stock = \"kospi\")\n",
    "\n",
    "chat.predict(prompt_1)"
   ]
  },
  {
   "cell_type": "code",
   "execution_count": 12,
   "id": "27e615d1",
   "metadata": {},
   "outputs": [
    {
     "data": {
      "text/plain": [
       "AIMessage(content='오늘의 KOSPI 시장은 상승세를 보일 것으로 예상됩니다. 최근 경제지표와 기업 실적이 양호하고 외국인 투자자들의 매수세가 강하게 나타나고 있습니다. 따라서 오늘의 시장은 긍정적인 모습을 보일 것으로 전망됩니다.')"
      ]
     },
     "execution_count": 12,
     "metadata": {},
     "output_type": "execute_result"
    }
   ],
   "source": [
    "template = ChatPromptTemplate.from_messages([\n",
    "    (\"system\", \"You are a {job}. And you only reply in {language}\" ),\n",
    "    (\"ai\",\"My name is {name}\" ),\n",
    "    (\"human\", \"오늘의 {stock}시장이 어떤거같아?\" )\n",
    "])\n",
    "\n",
    "prompt_2 = template.format_messages(\n",
    "    job= \"economist\", language= \"Korean\", name= \"GPT 3.5 turbo\", stock= \"kospi\"\n",
    ")\n",
    "\n",
    "chat.predict_messages(prompt_2)\n"
   ]
  },
  {
   "cell_type": "markdown",
   "id": "1a5cf8b1",
   "metadata": {},
   "source": [
    "from langchain.schema import BaseOutputParser\n",
    "\n",
    "class CommaOutputParser(BaseOutputParser):\n",
    "    def parse(self, text):\n",
    "        items = text.strip().split(\",\")\n",
    "        return list(map(str.strip, items))\n",
    "\n",
    "p = CommaOutputParser()\n",
    "p.parse(\"Rise, the, fuck, up\")"
   ]
  },
  {
   "cell_type": "code",
   "execution_count": 18,
   "id": "0e0d5a42",
   "metadata": {},
   "outputs": [
    {
     "data": {
      "text/plain": [
       "['income',\n",
       " 'deductions',\n",
       " 'credits',\n",
       " 'filing status',\n",
       " 'tax brackets',\n",
       " 'deadlines',\n",
       " 'state taxes',\n",
       " 'federal taxes',\n",
       " 'tax laws',\n",
       " 'tax professionals']"
      ]
     },
     "execution_count": 18,
     "metadata": {},
     "output_type": "execute_result"
    }
   ],
   "source": [
    "template_2 = ChatPromptTemplate.from_messages({\n",
    "    (\"system\", \"You are a list generating machine. Everything you are asked will be answered with a comma separated list of max{max_items} in lowercase. Do NOT reply with anything else.\"),\n",
    "    (\"human\", \"{question}\")\n",
    "})\n",
    "\n",
    "prompt_3 = template_2.format_messages(\n",
    "    max_items=10, question=\"What kinds of things I should consider when I pay tax.\"\n",
    ")\n",
    "\n",
    "result = chat.predict_messages(prompt_3)\n",
    "\n",
    "p = CommaOutputParser()\n",
    "p.parse(result.content)"
   ]
  },
  {
   "cell_type": "code",
   "execution_count": null,
   "id": "48771540",
   "metadata": {},
   "outputs": [],
   "source": [
    "###LangChain Expression Language로 표현\n",
    "from langchain.chat_models import ChatOpenAI\n",
    "from langchain.prompts import ChatPromptTemplate\n",
    "from langchain.schema import BaseOutputParser\n",
    "\n",
    "\n",
    "chat = ChatOpenAI(temperature=0.2)\n",
    "\n",
    "class CommaOutputParser(BaseOutputParser):\n",
    "    def parse(self, text):\n",
    "        items = text.strip().split(\",\")\n",
    "        return list(map(str.strip, items))\n",
    "\n",
    "\n",
    "template_2 = ChatPromptTemplate.from_messages({\n",
    "    (\"system\", \"You are a list generating machine. Everything you are asked will be answered with a comma separated list of max{max_items} in lowercase. Do NOT reply with anything else.\"),\n",
    "    (\"human\", \"{question}\")\n",
    "})\n",
    "\n",
    "\n",
    "\n",
    "chain = template_2 | chat | CommaOutputParser() \n",
    "chain.invoke({\n",
    "    \"max_items\": 5,\n",
    "    \"question\": \"What kinds of things I should consider when I making a web product.\"\n",
    "})"
   ]
  }
 ],
 "metadata": {
  "kernelspec": {
   "display_name": "env (3.11.5)",
   "language": "python",
   "name": "python3"
  },
  "language_info": {
   "codemirror_mode": {
    "name": "ipython",
    "version": 3
   },
   "file_extension": ".py",
   "mimetype": "text/x-python",
   "name": "python",
   "nbconvert_exporter": "python",
   "pygments_lexer": "ipython3",
   "version": "3.11.5"
  }
 },
 "nbformat": 4,
 "nbformat_minor": 5
}
