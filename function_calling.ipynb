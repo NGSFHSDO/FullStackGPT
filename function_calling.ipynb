{
 "cells": [
  {
   "cell_type": "code",
   "execution_count": null,
   "id": "32737502",
   "metadata": {},
   "outputs": [
    {
     "data": {
      "text/plain": [
       "'{\"questions\":[{\"question\":\"What year was Rome founded?\",\"answers\":[{\"answer\":\"753 BC\",\"correct\":true},{\"answer\":\"476 AD\",\"correct\":false},{\"answer\":\"1000 AD\",\"correct\":false}]},{\"question\":\"Who was the first emperor of Rome?\",\"answers\":[{\"answer\":\"Julius Caesar\",\"correct\":false},{\"answer\":\"Augustus\",\"correct\":true},{\"answer\":\"Nero\",\"correct\":false}]},{\"question\":\"What famous structure in Rome was built in 70-80 AD?\",\"answers\":[{\"answer\":\"Colosseum\",\"correct\":true},{\"answer\":\"Pantheon\",\"correct\":false},{\"answer\":\"Roman Forum\",\"correct\":false}]},{\"question\":\"Which volcano erupted and buried the city of Pompeii near Rome?\",\"answers\":[{\"answer\":\"Mount Vesuvius\",\"correct\":true},{\"answer\":\"Mount Etna\",\"correct\":false},{\"answer\":\"Mount Olympus\",\"correct\":false}]},{\"question\":\"Who was the legendary founder of Rome?\",\"answers\":[{\"answer\":\"Romulus\",\"correct\":true},{\"answer\":\"Remus\",\"correct\":false},{\"answer\":\"Julius Caesar\",\"correct\":false}]}]}'"
      ]
     },
     "execution_count": 1,
     "metadata": {},
     "output_type": "execute_result"
    }
   ],
   "source": [
    "from langchain.chat_models import ChatOpenAI\n",
    "from langchain.prompts import PromptTemplate\n",
    "\n",
    "\n",
    "function = {\n",
    "    \"name\": \"create_quiz\",\n",
    "    \"description\": \"function that takes a list of questions and answers and returns a quiz\",\n",
    "    \"parameters\": {\n",
    "        \"type\": \"object\",\n",
    "        \"properties\": {\n",
    "            \"questions\": {\n",
    "                \"type\": \"array\",\n",
    "                \"items\": {\n",
    "                    \"type\": \"object\",\n",
    "                    \"properties\": {\n",
    "                        \"question\": {\n",
    "                            \"type\": \"string\",\n",
    "                        },\n",
    "                        \"answers\": {\n",
    "                            \"type\": \"array\",\n",
    "                            \"items\": {\n",
    "                                \"type\": \"object\",\n",
    "                                \"properties\": {\n",
    "                                    \"answer\": {\n",
    "                                        \"type\": \"string\",\n",
    "                                    },\n",
    "                                    \"correct\": {\n",
    "                                        \"type\": \"boolean\",\n",
    "                                    },\n",
    "                                },\n",
    "                                \"required\": [\"answer\", \"correct\"],\n",
    "                            },\n",
    "                        },\n",
    "                    },\n",
    "                    \"required\": [\"question\", \"answers\"],\n",
    "                },\n",
    "            }\n",
    "        },\n",
    "        \"required\": [\"questions\"],\n",
    "    },\n",
    "}\n",
    "\n",
    "llm = ChatOpenAI(\n",
    "    temperature=0.1,\n",
    ").bind(\n",
    "    ### functions에 함수들 넣고, fuction_call을 auto로 해놓으면 알아서 처리해줌.\n",
    "    function_call={\n",
    "        \"name\": \"create_quiz\",\n",
    "    },\n",
    "    functions=[\n",
    "        function,\n",
    "    ],\n",
    ")\n",
    "\n",
    "prompt = PromptTemplate.from_template(\"Make a quiz about {city}\")\n",
    "chain = prompt | llm\n",
    "\n",
    "response = chain.invoke({\"city\": \"rome\"})\n",
    "response = response.additional_kwargs[\"function_call\"][\"arguments\"]\n",
    "response\n"
   ]
  },
  {
   "cell_type": "code",
   "execution_count": 3,
   "id": "b9cd0d3a",
   "metadata": {},
   "outputs": [
    {
     "data": {
      "text/plain": [
       "{'questions': [{'question': 'What year was Rome founded?',\n",
       "   'answers': [{'answer': '753 BC', 'correct': True},\n",
       "    {'answer': '476 AD', 'correct': False},\n",
       "    {'answer': '1000 AD', 'correct': False}]},\n",
       "  {'question': 'Who was the first emperor of Rome?',\n",
       "   'answers': [{'answer': 'Julius Caesar', 'correct': False},\n",
       "    {'answer': 'Augustus', 'correct': True},\n",
       "    {'answer': 'Nero', 'correct': False}]},\n",
       "  {'question': 'What famous structure in Rome was built in 70-80 AD?',\n",
       "   'answers': [{'answer': 'Colosseum', 'correct': True},\n",
       "    {'answer': 'Pantheon', 'correct': False},\n",
       "    {'answer': 'Roman Forum', 'correct': False}]},\n",
       "  {'question': 'Which volcano erupted and buried the city of Pompeii near Rome?',\n",
       "   'answers': [{'answer': 'Mount Vesuvius', 'correct': True},\n",
       "    {'answer': 'Mount Etna', 'correct': False},\n",
       "    {'answer': 'Mount Olympus', 'correct': False}]},\n",
       "  {'question': 'Who was the legendary founder of Rome?',\n",
       "   'answers': [{'answer': 'Romulus', 'correct': True},\n",
       "    {'answer': 'Remus', 'correct': False},\n",
       "    {'answer': 'Julius Caesar', 'correct': False}]}]}"
      ]
     },
     "execution_count": 3,
     "metadata": {},
     "output_type": "execute_result"
    }
   ],
   "source": [
    "import json\n",
    "\n",
    "json.loads(response)\n"
   ]
  },
  {
   "cell_type": "code",
   "execution_count": null,
   "id": "3ff2d20f",
   "metadata": {},
   "outputs": [],
   "source": [
    "### 헛소리 줄이고 내 데이터 첨가 가능.\n",
    "### 프롬프트 상위호환이라고 봄.\n",
    "### Langchain강의 기준 GPT3, GPT4 모델만 가능함, Ollama같은건 불가.\n",
    "### 다음은 GPT예제임.\n",
    "from langchain.chat_models import ChatOpenAI\n",
    "from langchain.prompts import ChatPromptTemplate\n",
    "import json\n",
    "\n",
    "# 1. 날씨 API 함수 설명서 (Schema)\n",
    "weather_function = {\n",
    "    \"name\": \"get_current_weather\",\n",
    "    \"description\": \"Get the current weather in a given city\",\n",
    "    \"parameters\": {\n",
    "        \"type\": \"object\",\n",
    "        \"properties\": {\n",
    "            \"location\": {\"type\": \"string\", \"description\": \"The city name\"}\n",
    "        },\n",
    "        \"required\": [\"location\"],\n",
    "    },\n",
    "}\n",
    "\n",
    "# 2. LLM 객체 생성 (function_call 자동 모드)\n",
    "llm = ChatOpenAI(temperature=0).bind(\n",
    "    functions=[weather_function],\n",
    "    function_call=\"auto\"   # 모델이 필요할 때 함수 호출 JSON을 만들어줌\n",
    ")\n",
    "\n",
    "# 3. 프롬프트\n",
    "prompt = ChatPromptTemplate.from_template(\"What's the weather in {city}?\")\n",
    "chain = prompt | llm\n",
    "\n",
    "# 4. 모델 응답 (실제 API 호출이 아님, JSON 구조 반환)\n",
    "response = chain.invoke({\"city\": \"Rome\"})\n",
    "print(\"LLM 응답:\", response.additional_kwargs)\n",
    "\n",
    "# 5. JSON 파싱해서 실제 함수 실행 (여기선 가짜 함수)\n",
    "function_call = response.additional_kwargs[\"function_call\"]\n",
    "args = json.loads(function_call[\"arguments\"])\n",
    "\n",
    "def get_current_weather(location):\n",
    "    # 실제로는 외부 API 호출 → 여기서는 가짜 값 리턴\n",
    "    return {\"location\": location, \"temperature\": \"28°C\", \"condition\": \"Sunny\"}\n",
    "\n",
    "api_result = get_current_weather(**args)\n",
    "print(\"실제 API 결과:\", api_result)"
   ]
  }
 ],
 "metadata": {
  "kernelspec": {
   "display_name": "env (3.11.5)",
   "language": "python",
   "name": "python3"
  },
  "language_info": {
   "codemirror_mode": {
    "name": "ipython",
    "version": 3
   },
   "file_extension": ".py",
   "mimetype": "text/x-python",
   "name": "python",
   "nbconvert_exporter": "python",
   "pygments_lexer": "ipython3",
   "version": "3.11.5"
  }
 },
 "nbformat": 4,
 "nbformat_minor": 5
}
