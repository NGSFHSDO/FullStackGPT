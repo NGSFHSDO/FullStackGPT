{
 "cells": [
  {
   "cell_type": "code",
   "execution_count": 1,
   "id": "77b9be78",
   "metadata": {},
   "outputs": [],
   "source": [
    "import subprocess\n",
    "\n",
    "def download_youtube_video(url):\n",
    "    command = [\"yt-dlp\", \"-o\", \"%(title)s.%(ext)s\", url]\n",
    "    subprocess.run(command)\n",
    "\n",
    "download_youtube_video(\"https://www.youtube.com/watch?v=3wk45Ow3m3M\")\n"
   ]
  },
  {
   "cell_type": "code",
   "execution_count": 2,
   "id": "f92307be",
   "metadata": {},
   "outputs": [],
   "source": [
    "def extract_audio(video_path, audio_path):\n",
    "    command = [\"ffmpeg\", \"-i\", video_path, \"-vn\", audio_path]\n",
    "    subprocess.run(command)\n",
    "\n",
    "extract_audio(\"./files/video.webm\", \"./files/audio.mp3\")"
   ]
  },
  {
   "cell_type": "code",
   "execution_count": null,
   "id": "54c666d4",
   "metadata": {},
   "outputs": [
    {
     "data": {
      "text/plain": [
       "2583.7013333333334"
      ]
     },
     "execution_count": 3,
     "metadata": {},
     "output_type": "execute_result"
    }
   ],
   "source": [
    "from pydub import AudioSegment\n",
    "\n",
    "track = AudioSegment.from_mp3(\"./files/audio.mp3\")"
   ]
  },
  {
   "cell_type": "code",
   "execution_count": 12,
   "id": "b71cb134",
   "metadata": {},
   "outputs": [],
   "source": [
    "import math\n",
    "\n",
    "def cut_audio_in_chunks(audio_path, unit_minute, chunks_folder):\n",
    "    track = AudioSegment.from_mp3(audio_path)\n",
    "    chunk_len = unit_minute * 60 * 1000\n",
    "    chunks = math.ceil(len(track) / chunk_len)\n",
    "    for i in range(chunks):\n",
    "        start_time = i * chunk_len\n",
    "        end_time = (i + 1) * chunk_len\n",
    "\n",
    "        chunk = track[start_time:end_time]\n",
    "\n",
    "        chunk.export(f\"{chunks_folder}/chunk_{i}.mp3\", format=\"mp3\")\n",
    "\n",
    "cut_audio_in_chunks(\"./files/audio.mp3\", 10, \"./files/chunks\")"
   ]
  },
  {
   "cell_type": "code",
   "execution_count": 13,
   "id": "76252688",
   "metadata": {},
   "outputs": [],
   "source": [
    "from typing import final\n",
    "import openai\n",
    "import glob\n",
    "\n",
    "\n",
    "def transcribe_chunks(chunk_folder, destination):\n",
    "    files = glob.glob(f\"{chunk_folder}/*.mp3\") # 해당 폴더 안에서 패턴과 맞는 모든 파일 경로를 리스트로 반환\n",
    "    final_transcript = \"\"\n",
    "    for file in files:\n",
    "        with open(file, \"rb\") as audio_file:\n",
    "            transcript = openai.Audio.transcribe(\"whisper-1\", audio_file)\n",
    "            final_transcript += transcript[\"text\"]\n",
    "    with open(destination, \"w\", encoding=\"utf-8\") as file:\n",
    "        file.write(final_transcript)\n",
    "\n",
    "transcribe_chunks(\"./files/chunks\", \"./files/transcript.txt\" )"
   ]
  }
 ],
 "metadata": {
  "kernelspec": {
   "display_name": "env (3.11.5)",
   "language": "python",
   "name": "python3"
  },
  "language_info": {
   "codemirror_mode": {
    "name": "ipython",
    "version": 3
   },
   "file_extension": ".py",
   "mimetype": "text/x-python",
   "name": "python",
   "nbconvert_exporter": "python",
   "pygments_lexer": "ipython3",
   "version": "3.11.5"
  }
 },
 "nbformat": 4,
 "nbformat_minor": 5
}
