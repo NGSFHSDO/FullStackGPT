{
 "cells": [
  {
   "cell_type": "markdown",
   "id": "caa2170d",
   "metadata": {},
   "source": [
    "### Retrieval Augmented Generation(RAG)\n",
    "## - Retrieve\n",
    "1. Load\n",
    "2. Transform(split...?)\n",
    "3. Embed\n",
    "4. Store\n",
    "5. Retrieve\n"
   ]
  },
  {
   "cell_type": "code",
   "execution_count": 1,
   "id": "4c70734e",
   "metadata": {},
   "outputs": [
    {
     "name": "stderr",
     "output_type": "stream",
     "text": [
      "[nltk_data] Downloading package punkt to\n",
      "[nltk_data]     C:\\Users\\82105\\AppData\\Roaming\\nltk_data...\n",
      "[nltk_data]   Unzipping tokenizers\\punkt.zip.\n",
      "[nltk_data] Downloading package averaged_perceptron_tagger to\n",
      "[nltk_data]     C:\\Users\\82105\\AppData\\Roaming\\nltk_data...\n",
      "[nltk_data]   Unzipping taggers\\averaged_perceptron_tagger.zip.\n",
      "Created a chunk of size 688, which is longer than the specified 600\n"
     ]
    },
    {
     "data": {
      "text/plain": [
       "[Document(page_content='스불재\\n잠(7시간) -> 씻기 \\\\& 빵 \\\\& 이동 -> 리트             -> 점심             -> 융프 or 공모전 + 알바 -> 저녁             -> 산책             -> 학은제 -> 아두이노 or 논문 or 책 읽기\\n~07:00    -> 07:00 ~ 09:00      -> 09:00 ~ 12:00 -> 12:00 ~ 13:00 -> 13:00 ~ 18:00            -> 18:00 ~ 19:00 -> 19:00 ~ 21:00 -> 21:00\\n0. 융합프로젝트 -> 불편한거 찾아보기 -> 빛번짐, 가짜뉴스,\\n1. 공모전 ->\\n2. 토플 -> 독학법 알아보기 -> 5월 1일까지\\n3. 금융계량 복습\\n4. 리트 ->\\n5. 위키독스\\n6. 자격증 -> 컴활, TESAT, ITQ,\\n7. 아두이노? -> 논문좀 봐보자\\n공모전 주제\\n1. 보험/은행\\n사람의 가치 계산(결정사 마냥)\\n국민연금 개혁방안', metadata={'source': './meeeemooo.md'}),\n",
       " Document(page_content='공모전 주제\\n1. 보험/은행\\n사람의 가치 계산(결정사 마냥)\\n국민연금 개혁방안\\n2. 증권/자산운용\\n주가예측 : 수익률 극대화 모델?(+리스크는 좋은 신호로 간주하기), 외부요인(감성분석), 기술적 지표 분석(수학적 예측 방법이랄까) -> 데이트레이딩\\n한국형 ETF\\n새로운 기술 지표 방법 개발(스윙 트레이딩)\\n~1/26\\n> 금융시장의 기술적 분석\\n> 차트의 기술\\n> 기술적 분석 모르고 절대 주식투자 하지 마라\\n> 네이버 증권 : 주식 고수는 투자 정보를 어디서, 무엇을, 어떻게 찾나?\\n> CMT 생각...?', metadata={'source': './meeeemooo.md'}),\n",
       " Document(page_content='> 네이버 증권 : 주식 고수는 투자 정보를 어디서, 무엇을, 어떻게 찾나?\\n> CMT 생각...?\\nV%2FWBD6uRvTL7UmWfZq1iXcdUJSrzipq3qPcddtskwBuwLhZkHOXp7cLL6i4C41xqLbH7jtCT8QJ5MJCn3Cw32Q%3D%3D\\n계량 복습\\n노트북용 to do 앱? 만들기(email 업뎃기능도) + 타이머 기능도(과제별 타이머) + 막연한 할 일 불시에 알림\\n노래제목앱\\n시루코인\\n머신러닝 강의\\n시계열 강의\\n가방 맡기고\\n금융시장의 기술적 분석\\n머신러닝 코드\\n시계열 코드\\n토플\\n뻘짓\\nCrime은 논문좀 찾아보기\\n산조는 교재 부지런히 읽기\\n평소에 좋은 데이터셋좀 찾아놓기\\n한희준교수님 논문읽어보기', metadata={'source': './meeeemooo.md'}),\n",
       " Document(page_content='평소에 좋은 데이터셋좀 찾아놓기\\n한희준교수님 논문읽어보기\\n선대, 금계 복습\\n계량복습\\n취미\\n책읽기\\n토플\\n학교공부\\n복습하는 시간\\n운동\\n1. 수통분 -> 한 타임\\n첫주차 강의 듣기\\n복습\\n2. 크라임 -> 두 타임\\n논문 읽기\\n데이터 찾기\\n3. 시계열 -> 세 타임                       금 - 2/4/6 토 - 1/5/6   일 3/6\\n첫주차, 2주차 강의 듣기\\n코드 전부 복습\\n다음코드 예습\\n4. 산조 -> 세 타임\\n교재 파트원(102페이지)\\n슬라이드 복습\\n5. 머신러닝 -> 두 타임(일단 유기)\\n2주차 강의 듣기\\n과제\\n6. 토플 -> 두 타임\\n7. 책읽기\\n8. 뻘짓', metadata={'source': './meeeemooo.md'}),\n",
       " Document(page_content='2주차 강의 듣기\\n과제\\n6. 토플 -> 두 타임\\n7. 책읽기\\n8. 뻘짓\\n중2 수학 기본 6월 5차시 [3단원] 대단원 문제풀이\\n중2 수학 심화 6월 5차시 [3단원] 대단원 문제풀이\\n중3 수학 기본 4월 4차시 1,2단원 대단원 문제풀이\\n중3 수학 기본 6월 4차시 3,4단원 대단원 문제풀이\\n중3 수학 심화 4월 4차시 1,2단원 대단원 문제풀이\\n중3 수학 심화 6월 4차시 3,4단원 대단원 문제풀이\\n중3 수학 기본 6월 5차시 문제풀이 1\\n교안X\\n초4사회 4월 7차시 수행평가\\n초4사회 4월 8차시 소단원 문제풀이', metadata={'source': './meeeemooo.md'}),\n",
       " Document(page_content='교안X\\n초4사회 4월 7차시 수행평가\\n초4사회 4월 8차시 소단원 문제풀이\\n초4사회 4월 9차시 [우리가 알아보는 지역의 역사] 우리 지역의 역사적 인물(1)\\n초6사회 4월 9차시 중단원 문제풀이\\n숙제X\\n사회2 4월 4차시 중간대비 문제풀이 1\\n사회2 4월 5차시 중간대비 문제풀이 2\\n사회2 4월 6차시 중간대비 문제풀이 3\\n사회2 4월 7차시 중간대비 문제풀이 4\\n사회2 4월 8차시 중간대비 문제풀이 5\\n사회2 4월 9차시 중간대비 문제풀이 6\\n역사2 4월 7차시 [중간대비] 문제풀이1\\n역사2 4월 8차시 [중간대비] 문제풀이2\\n역사2 4월 9차시 [중간대비] 문제풀이3', metadata={'source': './meeeemooo.md'}),\n",
       " Document(page_content='역사2 4월 8차시 [중간대비] 문제풀이2\\n역사2 4월 9차시 [중간대비] 문제풀이3\\n사회1 4월 1차시 [2단원] 2단원 단원정리\\n사회1 4월 2차시 [2단원] 2단원 문제풀이\\n사회1 4월 3차시 [3단원] 유럽 1 - 유럽의 여러 국가와 환경\\n사회1 4월 4차시 [3단원] 유럽 2 - 유럽 도시, 유럽의 통합과 분리\\n사회1 4월 5차시 [3단원] 3단원 단원정리\\n사회1 4월 6차시 [3단원] 3단원 문제풀이\\n사회1 4월 7차시 [시험대비] 중간대비 문제풀이 1\\n사회1 4월 8차시 [시험대비] 중간대비 문제풀이 2\\n사회1 4월 9차시 [시험대비] 중간대비 문제풀이 3\\n크라임 : 논문 다 읽기 -> 토요일', metadata={'source': './meeeemooo.md'}),\n",
       " Document(page_content='사회1 4월 9차시 [시험대비] 중간대비 문제풀이 3\\n크라임 : 논문 다 읽기 -> 토요일\\n산조 : 복습\\n수통분 : 복습 및 김창진 -> 토요일\\nML : 오버피팅 -> 오늘\\n시계열 : 강의 듣기 -> 일요일\\n교안 X\\nReading Lv.3 4월 1~9차시\\nReading Lv.4 4월 1~9차시\\n중1수학기본 4월 4~9차시\\n중1수학심화 4월 4~9차시\\n중2수학기본 4월 1~9차시\\n중2수학심화 4월 1~9차시\\n중3수학기본 4월 1~9차시\\n중3수학기본 4월 1~9차시\\n초4사회 4월 7~9차시\\n초6사회 4월 9차시\\n사회1 4월 1~2차시\\n고등통합사회 4월 1~9차시\\n초4과학 4월 1~9차시\\n중1과학 4월 1~9차시\\n고등통합과학 4월 1~9차시\\n숙제 X', metadata={'source': './meeeemooo.md'}),\n",
       " Document(page_content='초4과학 4월 1~9차시\\n중1과학 4월 1~9차시\\n고등통합과학 4월 1~9차시\\n숙제 X\\n중2국어 4월 1~9차시\\n중3국어 4월 1~9차시\\nReading Lv.5 4월 6~9차시\\nGrammar Lv.3 4월 1~4차시\\n중1수학기본 4월 4~9차시\\n중1수학심화 4월 4~9차시\\n중2수학기본 4월 4~9차시\\n중2수학심화 4월 4~9차시\\n중3수학기본 4월 4~9차시\\n중3수학심화 4월 4~9차시\\n사회1 4월 1~9차시\\n사회2 4월 4~9차시\\n역사2 4월 5차시, 7~9차시\\n고등통합사회 4월 4~9차시\\n고등한국사 4월 1~5차시\\n중1과학 4월 4~9차시\\n고등통합과학 4월 1~9차시\\n공공데이터 활용 정책 아이디어 공모전\\n크라임 :\\n수통분 : 월', metadata={'source': './meeeemooo.md'}),\n",
       " Document(page_content='공공데이터 활용 정책 아이디어 공모전\\n크라임 :\\n수통분 : 월\\n산조 : 금\\n시계열 : 일\\nML :\\n시계열 VAR 강의 2개\\n코세라 4주까지 - 6시간 정도\\n수통분 6주차\\n산조 - 담주\\n인터파크 예매 프로그램\\n숙제 X\\n초4국어 5월 4~7차시\\n중2국어 5월 3, 6, 7차시\\n중3국어 5월 6, 7차시\\n사회1 5월 1~7차시\\n고등통합사회 5월 1~6차시\\n고등한국사 5월 2~4차시\\n초4과학 5월 1~7차시\\n중1과학 5월 1~7차시\\n고등통합과학 5월 1~7차시\\n교안 X\\nReading Lv.1 5월 5, 7차시\\n초5수학기본 5월 1~7차시\\n초4사회 5월 1~7차시\\n고등통합사회 5월 5, 6차시\\n초4과학 5월 1~7차시', metadata={'source': './meeeemooo.md'}),\n",
       " Document(page_content='초4사회 5월 1~7차시\\n고등통합사회 5월 5, 6차시\\n초4과학 5월 1~7차시\\n중1과학 5월 1~7차시\\n중3과학 5월 1~7차시\\n고등통합과학 5월 1~7차시\\nimplied/realized volatility\\n코세라 4-2 optional 듣기\\n교안 X\\n숙제 X\\n초4과학 5월 1~7차시\\n중1과학 5월 1~7차시\\n고등통합과학 5월 1~7차시\\nr = r.l1 + GDP.l1 + CPI.l1 + r.l2 + GDP.l2 + CPI.l2 + r.l3 + GDP.l3 + CPI.l3 + r.l4 + GDP.l4 + CPI.l4 + r.l5 + GDP.l5 + CPI.l5 + r.l6 + GDP.l6 + CPI.l6 + const\\nGDP = r.l1 + GDP.l1 + CPI.l1 + r.l2 + GDP.l2 + CPI.l2 + r.l3 + GDP.l3 + CPI.l3 + r.l4 + GDP.l4 + CPI.l4 + r.l5 + GDP.l5 + CPI.l5 + r.l6 + GDP.l6 + CPI.l6 + const\\ngoyal and welch(2008)\\ngoyal는 웹사이트에서 연구중..?\\nhttps://realized.oxford-man.ox.ac.uk/ ->  나라별 realized volatility 연구', metadata={'source': './meeeemooo.md'}),\n",
       " Document(page_content='goyal and welch(2008)\\ngoyal는 웹사이트에서 연구중..?\\nhttps://realized.oxford-man.ox.ac.uk/ ->  나라별 realized volatility 연구\\ntable2 - 임계값 전후에서 운전자들의 특성이 유의미하게 달라지지 않느다 -> RDD\\n5/13\\n시계열 강의, 복습\\n크라임 논문\\n시계열 주제 찾기   -> 이론은 배웠는데 코드가 없는 부분 : expanding window, Direct forecasting, SVAR\\n감정분석에 적합한 시계열 모델..\\n> 제목만X, 본문 요약 후\\n>\\n교안X\\n초4국어 6월 1~9차시\\n중1국어 6월 5~9차시\\nReading Lv1. 1, 4, 6, 8차시\\n중2수학기본 6월 5차시\\n중2수학심화 6월 5차시\\n사회1 6월 1~9차시\\n사회2 6월 5차시\\n역사1 6월 5차시\\n고등통합사회 6월 1~9차시\\n초4과학 6월 1~9차시', metadata={'source': './meeeemooo.md'}),\n",
       " Document(page_content='사회2 6월 5차시\\n역사1 6월 5차시\\n고등통합사회 6월 1~9차시\\n초4과학 6월 1~9차시\\n중1과학 6월 1~9차시\\n중3과학 6월 8~9차시\\n고등통합과학 6월 1~9차시\\n숙제X\\n초4국어 6월 1~9차시\\n중1국어 6월 5~9차시\\n중2국어 6월 1~9차시\\n중3국어 6월 9차시\\n고등국어 6월 1~9차시\\nReading Lv1. 3~9차시\\nGrammar Lv.3 3, 5차시\\n사회1 6월 3~4차시\\n사회2 6월 5차시\\n역사1 6월 5차시\\n고등통합사회 6월 1~9차시\\n고등한국사 6월 1~4차시\\n초4과학 6월 1~9차시\\n중1과학 6월 1~9차시\\n중3과학 6월 8~9차시\\n고등통합과학 6월 1~9차시\\nGrammar Lv.3 6월 5차시 형용사, 부사, 전치사', metadata={'source': './meeeemooo.md'}),\n",
       " Document(page_content='중3과학 6월 8~9차시\\n고등통합과학 6월 1~9차시\\nGrammar Lv.3 6월 5차시 형용사, 부사, 전치사\\nGrammar Lv.3 7월 4차시 특수구문\\nGrammar Lv.3 8월 3차시 동사시제\\nGrammar Lv.3 8월 4차시 동사의 태\\n종속변수 : 거래량, 가격, 수익률 등등\\n설명변수 : 감성분석 극값\\nVAR?, ARDL?\\n크라임 : 언론플레이가 형량?에 미치는 영향 or 언론플레이가 관련 범죄\\n1. 일요일에 포장 주류 판매를 합법화한 것이 범죄에 미친 영향을 추정한다\\n2. did 요일별로 -> 고정효과처럼 작용해서 단순 정책이 바뀌어서 경찰력같은게 늘어나는걸 차단\\n65/37/[The Challenge of Learning] - The Challenge of Learning (7)', metadata={'source': './meeeemooo.md'}),\n",
       " Document(page_content='65/37/[The Challenge of Learning] - The Challenge of Learning (7)\\nhttps://www.lmsone.com/wcms/qBank/qBankSearch.asp?page=10\\\\&cc_seq=\\\\&key=tb1.title\\\\&keyWord=\\\\&s_multiple_yn=\\\\&s_category=\\\\&s_difficulty=\\\\&s_use=Y\\\\&s_division_m=\\\\&s_division_h=\\\\&s_publish=\\\\&s_subject=7407\\\\&s_school_year=\\\\&s_school_grade=7203\\\\&s_type=\\\\&group_seq=62212\\\\&s_qbank_type=\\nhttps://www.lmsone.com/wcms/qBank/qBankSearch.asp?page=10\\\\&cc_seq=\\\\&key=tb1.title\\\\&keyWord=\\\\&s_multiple_yn=\\\\&s_category=\\\\&s_difficulty=\\\\&s_use=Y\\\\&s_division_m=\\\\&s_division_h=\\\\&s_publish=\\\\&s_subject=7407\\\\&s_school_year=\\\\&s_school_grade=7203\\\\&s_type=\\\\&group_seq=62213\\\\&s_qbank_type=\\n1.  Stock Market Transaction Trend\\nKOSPI지수 - 0001000\\nKOSDAQ지수 -0089000         ->      로그차분\\n원/미국달러(매매기준율) - 0000001\\n외국인 순매수(주식시장, 잠정치) - 0030000\\n외국인 순매수(코스닥시장, 잠정치) - 0113000 ->  차분 X\\n3. General Financial Variables\\nKorea Treasury Bond 1Y - 010190000\\nKorea Treasury Bond 3Y - 010200000\\nKorea Treasury Bond 5Y - 010200001         -> 1차차분\\nKorea Treasury Bond 10Y - 010210000\\nKorea Treasury Bond 20Y - 010220000', metadata={'source': './meeeemooo.md'}),\n",
       " Document(page_content='3. General Financial Variables\\nKorea Treasury Bond 1Y - 010190000\\nKorea Treasury Bond 3Y - 010200000\\nKorea Treasury Bond 5Y - 010200001         -> 1차차분\\nKorea Treasury Bond 10Y - 010210000\\nKorea Treasury Bond 20Y - 010220000\\n통안증권(91일) - 010400000\\n통안증권(1년) - 010400001\\n통안증권(2년) - 010400001\\n회사채(3년, AA-) - 010300000\\n회사채(3년, BBB-) - 010320000\\nMMF(7일) - 010501000\\nHQ(n)\\n조합: RKOSPI, RSP500\\n최적 Lag: 1\\n잔차 Ljung-Box Test p-value: 0.0543\\n조합: RKOSPI, RSP500, Rshanghai\\n최적 Lag: 2\\n잔차 Ljung-Box Test p-value: 0.1653\\n조합: RKOSPI, RSP500\\n최적 Lag: 1\\n잔차 Ljung-Box Test p-value: 0.0543\\n조합: RKOSPI, Rshanghai\\n최적 Lag: 4\\n잔차 Ljung-Box Test p-value: 0.2723\\n조합: RKOSPI, RSP500, Rshanghai\\n최적 Lag: 2\\n잔차 Ljung-Box Test p-value: 0.1653\\nVAR-GARCH, EGARCH 등등 어떻게 추정하는지 확ㅇ니하기\\n주식시장 : 코스피, 코스닥\\n채권시장 : 국고채 단기/장기, 신용 스프레드', metadata={'source': './meeeemooo.md'}),\n",
       " Document(page_content='주식시장 : 코스피, 코스닥\\n채권시장 : 국고채 단기/장기, 신용 스프레드\\n환율시장 : 원달러, 원..\\n상품시장 : 유가, VKOSPI, VIX\\n스프레드, 환율 추가\\n월별 데이터로 다시\\nHQ(n)\\n조합: kospi, KTB_10Y, MSB_91D\\n최적 Lag: 2\\n잔차 Ljung-Box Test p-value: 0.2185\\n조합: kospi, kosdaq, KTB_10Y, MMF\\n최적 Lag: 2\\n잔차 Ljung-Box Test p-value: 0.1615\\n조합: kospi, kosdaq, KTB_20Y, MSB_91D\\n최적 Lag: 1\\n잔차 Ljung-Box Test p-value: 0.1333\\n조합: kospi, kosdaq, MSB_91D, CB_AA\\n최적 Lag: 1\\n잔차 Ljung-Box Test p-value: 0.0569\\n조합: kospi, kosdaq, MSB_91D, CB_BBB\\n최적 Lag: 1\\n잔차 Ljung-Box Test p-value: 0.0969\\nSC(n)\\n$kospi_kosdaq_nikkei_shanghai\\n[1] TRUE\\n$kospi_kosdaq_nikkei_usdkrwx\\n[1] TRUE\\n$kospi_kosdaq_nikkei_jpykrwx\\n[1] TRUE\\n$kospi_kosdaq_nikkei_vix\\n[1] TRUE\\n1. vix, kospi, nikkei, shanghai\\n2.', metadata={'source': './meeeemooo.md'}),\n",
       " Document(page_content='[1] TRUE\\n$kospi_kosdaq_nikkei_usdkrwx\\n[1] TRUE\\n$kospi_kosdaq_nikkei_jpykrwx\\n[1] TRUE\\n$kospi_kosdaq_nikkei_vix\\n[1] TRUE\\n1. vix, kospi, nikkei, shanghai\\n2.\\nvix, kospi, shanghai, nikkei 이 변수들 이용해서 공포지수가 동아시아 주식시장에 미치는 영향\\nthey conducted H.T. to check th\\nHeterogeneity Test\\nUmemployment\\n> the effect of the SNAP ban should be smaller when ex-offenders face a tight labor market\\n> so they interact state leve unemployment rate to other variables in first equation.\\n> they found the ban increases recidivism more for offenders released in poor legal labor markets.\\nABAWD work requirement (ABAWD : able-bodied adults without dependents)\\n> If the main results are due to SNAP receipt, then the increase in recidivism as a result of the ban should be driven by increased recidivism occurring in months and counties with ABAWD waivers.\\n> the test results are consistent with the expectation.\\nPlacebo Test and Threats to validity\\nSMD offenders -> 1997년 5월 법안 통과 당시, SMD도 snap이 금지될꺼라 예상됨 -> 내생적인 변수가 영향을 미쳤다면 결과에 나와야한다. -> 없음.\\n> Florida modified the Federal SNAP ban to exempt SMD offenders\\n> however, state lawmakers did not pass legislation modifying the ban until May 1997\\n> So if there is any endogenous effect around cut off, we should also find effects for offenders committing SMD\\n> the results show that the effect for drug traffickers is not driven by endogenous sorting at the cutoff.', metadata={'source': './meeeemooo.md'}),\n",
       " Document(page_content='> Florida modified the Federal SNAP ban to exempt SMD offenders\\n> however, state lawmakers did not pass legislation modifying the ban until May 1997\\n> So if there is any endogenous effect around cut off, we should also find effects for offenders committing SMD\\n> the results show that the effect for drug traffickers is not driven by endogenous sorting at the cutoff.\\nNondrug offenders -> snap 금지가 안됐으므로 기준일 전후로 영향을 받으면 안된다.\\n> Since they are not subject to the SNAP ban, they should not be affected by the cutoff\\n> and the test results confirm that there was indeed no significant effect\\nSeasonal patterns\\n> to checking whether policy cutoff date may coincides with seasonal patterns\\n> conducts 16 placebo tests using August 23 of each year from 1997 to 2012\\n> the results show that there are no seasonal effects\\n> 통계적으로 유의미하게 0과 달랐으며 (2011년), 2011년 위약 추정치보다 더 큰 세 개의 추정치(1998, 1999, 2003년)가 있었는데, 이 해들에는 플로리다에서 약물 밀매 범죄자들에게 영향을 미치는 형사 사법 정책 변화가 있었습니다.\\n1. Denying drug offenders SNAP benefits has increased their likelihood of recidivism.\\n2. The increase in recidivism is mostly driven by crimes that have a monetary motive.\\n3. This study suggests that financial support like SNAP is key to successful reentry and crime prevention.\\n일별, 주별, 월별, 특정년도구간\\n1. I(1) 과정 확인', metadata={'source': './meeeemooo.md'}),\n",
       " Document(page_content=\"2. The increase in recidivism is mostly driven by crimes that have a monetary motive.\\n3. This study suggests that financial support like SNAP is key to successful reentry and crime prevention.\\n일별, 주별, 월별, 특정년도구간\\n1. I(1) 과정 확인\\n2. 공적분 관계 확인 -> r=1\\n3. I(0)로 차분 후 VAR모델 적합 -> lag=1\\n4. VECM모델 적합\\n5. 잔차 Q-test, Engle's LM test, 잔차 제곱 Q-test\\n6. VAR-GARCH(1,1)적합\\n7. 잔차 및 잔차 제곱 Q-test\\n8. IRF\\n9. Forecast 성능 평가\\nSDID는 SCM과 유사하게 대조군에 가중치를 주어 합성대조군을 생성하는 과정에서, 특정 사건의 처리 후 기간에 대해 처리 전 기간과의 차이가 최소화되도록 시간 가중치도 고려하게 된다.\\n레퍼런스\\n1. 새벽배송 진입효과 분석\", metadata={'source': './meeeemooo.md'}),\n",
       " Document(page_content='특정 사건의 처치 전 기간 동안 평행추세가 유사한 경우에는 DID를 적용하는 것이 적절했으며, 처치 전 기간의 평행추세가 유사하지 않거나 대조군 수가 적은 경우에는 SCM과 SDID를 적용하는 것이 더 적  절한 것으로 나타났다. 특히, 처치 전 기간이 길수록 SDID를 적용하는 것이 더 효과적이었으며, 이는 SDID가 대조군과 시간별 가중치를 함께 적용하여, 처리 전 기간의 평행추세    뿐만 아니라 시간적 변동성  에도 더 유연하게 대응할 수 있기 때문이다. 결과적으로, 연구 상황에 따라 적절한 방법을 선택하는 것이 현실적인 상황에서 특정 사건의 처치 효과를 정확하게 추정하는 데 중요함을 확인하였다.', metadata={'source': './meeeemooo.md'}),\n",
       " Document(page_content='2.\\n1.발생건수\\n2.\\n강력범\\n절도범\\n폭력범\\n지능범\\n마약류관리에관한법률(대마)\\n마약류관리에관한법률(마약)\\n마약류관리에관한법률(향정)\\n마약류불법거래방지에관한특례법\\n아편 몰핀\\n특가법(마약)\\n특가법(향정)\\n향정신성 의약품관리\\n도로교통법 (음주운전)\\n광주, 대전은 2007년부터 있음 탈락\\n=SUM(G2,H2,I2)\\nSTATA로 _서울, 붙이고 한번해 취합하기\\nhttps://chatgpt.com/share/6859cec5-2ad8-8006-8fa3-7ad4f661eabe\\n1990년부터 있는 자료 보기\\n2021 역 DID질문\\n다른 범죄에 대해서도 해보기\\n인천, 경기, 전북\\n1. my name is Beom jun Kim, and I like to be called the way is.', metadata={'source': './meeeemooo.md'}),\n",
       " Document(page_content='2021 역 DID질문\\n다른 범죄에 대해서도 해보기\\n인천, 경기, 전북\\n1. my name is Beom jun Kim, and I like to be called the way is.\\n2. I’m born in Gwangju south korea. (민증 인증 ㅋㅋ)\\n3. Since I was born there and 초중고를 광주에서 나왔기 때문에 lived until 20, 나는 순혈 한국인이다. 굳이 따지면 스프링필드 5년 정도..?\\n4. 2023년도 이후부터는 서울 -> Korea 23년 반쯤있었다.\\n5. 한국어 -> intermediate, 영어 -> intermediate, 일본어 -> beginner, 신조사사게오\\n6. 8살 때쯤 학원에서부터 영어를 배움. 근데 어벤져스만 틀어줌.. 머신러닝기법이다. 그 후에 정석적인? 학원을 다니긴 했지만 팝송 가사해석하면서 더 실력이 늘은것 같다. + 심슨', metadata={'source': './meeeemooo.md'}),\n",
       " Document(page_content='7. 꽤 만족한다. 비록 그렇게 능숙한 정도는 아니지만 이 수업을 따라가는데 큰 문제는 없는 정도이고 무엇보다도 살면서 영어땜에 스트레스 받은 적은 없어서 은은하게 잘 배운 것 같다.\\n8. Concept이 낯설어 Expanding circle에 있는지는 잘모르겠지만 확실히 inner나 outer서클은 아니기에 굳이 고르라면 expanding circle인것같다.\\n9. Since, l like homer simpson, I prefer vary american english\\n10.    이유는 모르겠지만 좀 부끄럽다, 우리 영어울렁증과 textbook에 있듯이 한국인은 한국인과 영어로 대화하지 않는다는 점은 아마 이 때문이 아닐까 싶다.\\nI also started learning English from a young age, but I do agree with feelings confused when there are so many people who speak English well in global classes.\\nAnd I appreciate your travel stories, what a memoriable moments!\\nI like that you have language studies in some countries that would be a memorable experience. And I do agree that English education in Korea focuses too much on tests and lacks a practical part', metadata={'source': './meeeemooo.md'}),\n",
       " Document(page_content='I also started learning English from a young age, but I do agree with feelings confused when there are so many people who speak English well in global classes.\\nAnd I appreciate your travel stories, what a memoriable moments!\\nI like that you have language studies in some countries that would be a memorable experience. And I do agree that English education in Korea focuses too much on tests and lacks a practical part\\ncladue ai, gemini 무료 자세히 알아보기; 트레이딩 사이트 개발\\n배운 모든것을 도구로 넣는다...\\nMCP\\nNotion\\nContext 7 : hallucination 없애주는거\\nPlaywright + Floppydata : 대규모 데이터 IP 숨기면서 스크래핑\\nSequential Thinking : 선발대 출격\\nFigma : selector copy하면 자동으로 html 코드...?\\nPostgreSQL : 웹사이트 감사\\nYoutube : 영상 자막 추출 및 요약\\n프로그램?\\nReact Native : JS script, HTML, CSS를 ios, android에\\nElectron : JS script, HTML, CSS를 데스크탑 앱으로\\nML5.js : 머신러닝 생성하는 웹사이트 구축 및 훈련 가능(주로 사진 인식인듯..? -> 기술적분석)\\n8시간 4.2 6시간', metadata={'source': './meeeemooo.md'}),\n",
       " Document(page_content='8시간 4.2 6시간\\n노마드코더 -> 바이브코딩 \\\\& 머러 복습 -> 웹사이트 \\\\& 금융공학\\n아카이브 사이트 만들기\\n학술대회 준비\\n금융공학\\n년/월/일 + 요일 추가 => 정확한 나이 + 세계무슨무슨날\\n기온 및 습도 => 날씨는 기상청 api로 다시\\n기압 => 물이 몇도에서 끓습니다 이런것도\\n아캠, 유튜브 등등 url추가\\n이메일 연계도 추가\\n애플뮤직(바로 디스커버리 스테이션/가사, 다음노래 나오게)\\n지피티나 제미나이 => 랭체인 강의 듣고\\n뉴스 요약 => 기사 요약이나 유튜브 자막 MCP이용해보기\\n투자분석리포트 요약\\n텔그종토방 요약', metadata={'source': './meeeemooo.md'}),\n",
       " Document(page_content='투자분석리포트 요약\\n텔그종토방 요약\\n캘린더 => 요즘하는일, 박제, 오늘할일\\n할 것\\n1. 주가예측사이트\\n2. 통합 일정 사이트\\n3. 시루코인\\n4. 듀얼 => 파란배경, 하얀 둥근사각형의 아이템\\n5. 답가\\n6. 답가 api기반으로 팝송해석 유튜브 자동화..?\\n7. 비컴어 금융공학도\\n8. 경제 기본지식좀\\n9. 머러, 선대복습\\n10. 정책평가 ai\\n11. smartcontract 금융상품 => 크라우드 펀딩 \\n-> 유튜브 자원 NFT화\\n-> 종목별 가격 노래로\\n12-0. 명목소득 실질소득 비교 웹\\n12-0-0. 대리주식사이트, 돈 넣으면 회원 -> 돈으로 대신 수익내주고 -> 수수료\\n12-0-1. stockloud', metadata={'source': './meeeemooo.md'}),\n",
       " Document(page_content='12-0-0. 대리주식사이트, 돈 넣으면 회원 -> 돈으로 대신 수익내주고 -> 수수료\\n12-0-1. stockloud\\n12-1. 애완견 미용? 다나와\\n12-2. 쓸만한 라이브러리? 추천해주는 ai\\n13. 연말전에 Alpha로 수익 내보기\\n14. 임베딩 머신러닝\\nnpx create-react-app 폴더명\\ncode 폴더명\\nnpm run start\\npackage.json에 \\n  },\\n  \"homepage\": \"https://NGSFHSDO.github.io/test\"\\n}\\n입력 후\\nscript에\\n\"deploy\": \"gh-pages -d build\",\\n\"predeploy\": \"npm run build\"\\n추가\\n=> 이제 build 전에 npm run deploy하면됨\\nnpm create vite@latest\\nnpm install\\nnpm run dev\\n(불필요한거 삭제하고)\\ngit init\\ngit remote add origin (저장소 url)\\nnpm install react-router-dom@6.14.2\\nnpm install styled-reset\\nnpm install styled-components@6.0.7\\nnpm install @types/styled-components -D\\n그리고 firebase가져오기\\nauthentication 등등은 알아서 추가\\nHosting 하기전에 package.json script에 \\n\"predeploy\": \"npm run build\",\\n\"deploy\": \"firebase deploy\"', metadata={'source': './meeeemooo.md'}),\n",
       " Document(page_content='그리고 firebase가져오기\\nauthentication 등등은 알아서 추가\\nHosting 하기전에 package.json script에 \\n\"predeploy\": \"npm run build\",\\n\"deploy\": \"firebase deploy\"\\n보안은 fireStore, storage의 규칙설정이나 google cloud api credential에서 설정하기\\nnpm init \\nmain.js랑 script좀 지우고\\nnpm install -D typescript\\ntsconfig.json 파일 만들기\\nindex.json 스크립트에 \"build\": \"tsc\"추가하고\\nnpm run build하면 js파일 컴파일됨\\nnpm install -D ts-node //build없이 타입스크립트 실행 ㄱㄴ\\n \"dev\": \"nodemon --exec ts-node src/index.ts\", 추가\\nDefinitelyTyped => nodejs모듈 index.d.ts로 바꿔준 자원봉사자들의 무덤 -> npm install -D @type/crypto 이런식으로 사용하기\\n.gitignore 파일 생성\\npowershell에 python -m venv ./env 입력 => 가상환경\\n.gitignore에 env/ 입력 \\npowershell에 .\\\\env\\\\Scripts\\\\Activate.ps1 입력\\nrequirements.txt 만들고\\npip install -r requirements.txt\\n주피터 사용시 kernel environment에 맞춰주기\\nGithub 저장\\n(최초 1회)', metadata={'source': './meeeemooo.md'}),\n",
       " Document(page_content='requirements.txt 만들고\\npip install -r requirements.txt\\n주피터 사용시 kernel environment에 맞춰주기\\nGithub 저장\\n(최초 1회)\\ngit init\\ngit config user.name \"\"\\ngit config user.email \"\"\\ngit branch -M main\\ngit remote add origin https://github.com/NGSFHSDO/FullStackGPT.git\\ngit branch -M main\\ngit add .\\ngit commit -m \"\"\\ngit push -u origin main\\n(그 후)\\ngit status => 변경사항 확인\\ngit add .\\ngit commit -m \"update: 2025-08-17 작업 내용 정리\"\\ngit push\\n1.\\n- Langchain\\n- WorldQuant\\n- GoogleCloud-Api\\n- SQL\\n- BlockChain, NFT, CrowdFunding\\n- 금융공학도\\n파이썬으로 웹스크래핑\\nLangchain으로 7가지 웹서비스..\\n종토방, 뉴스기사, 네이버종목토론실 load -> embeding -> langchain', metadata={'source': './meeeemooo.md'})]"
      ]
     },
     "execution_count": 1,
     "metadata": {},
     "output_type": "execute_result"
    }
   ],
   "source": [
    "### Load & Split\n",
    "from langchain.chat_models import ChatOpenAI\n",
    "from langchain.document_loaders import UnstructuredFileLoader\n",
    "from langchain.text_splitter import RecursiveCharacterTextSplitter, CharacterTextSplitter\n",
    "\n",
    "loader = UnstructuredFileLoader(\"./meeeemooo.md\")\n",
    "docs = loader.load()\n",
    "\n",
    "\"\"\"\n",
    "splitter = RecursiveCharacterTextSplitter(\n",
    "    chunk_size=200,\n",
    "    chunk_overlap=50,\n",
    ")\n",
    "\"\"\"\n",
    "\n",
    "splitter = CharacterTextSplitter.from_tiktoken_encoder( ### 개추\n",
    "    separator=\"\\n\",\n",
    "    chunk_size=600,\n",
    "    chunk_overlap=100\n",
    ")\n",
    "\n",
    "\"\"\"\n",
    "splitter.split_documents(docs)\n",
    "\"\"\"\n",
    "loader.load_and_split(text_splitter=splitter) ### 둘 다 가능\n",
    "\n"
   ]
  },
  {
   "cell_type": "code",
   "execution_count": 11,
   "id": "24f951ae",
   "metadata": {},
   "outputs": [
    {
     "name": "stderr",
     "output_type": "stream",
     "text": [
      "Created a chunk of size 688, which is longer than the specified 600\n"
     ]
    }
   ],
   "source": [
    "### Embedding & Vector store\n",
    "from langchain.document_loaders import UnstructuredFileLoader\n",
    "from langchain.text_splitter import CharacterTextSplitter\n",
    "from langchain.embeddings import OpenAIEmbeddings, CacheBackedEmbeddings\n",
    "from langchain.vectorstores import Chroma\n",
    "from langchain.storage import LocalFileStore\n",
    "\n",
    "splitter = CharacterTextSplitter.from_tiktoken_encoder( \n",
    "    separator=\"\\n\",\n",
    "    chunk_size=600,\n",
    "    chunk_overlap=100\n",
    ")\n",
    "\n",
    "loader = UnstructuredFileLoader(\"./meeeemooo.md\")\n",
    "docs = loader.load_and_split(text_splitter=splitter)\n",
    "\n",
    "embedder = OpenAIEmbeddings()\n",
    "cache_dir = LocalFileStore(\"./.cache/\") # => 같은 단어에 대해서 embed 한 번만 해도됨.\n",
    "\n",
    "cache_embedder = CacheBackedEmbeddings.from_bytes_store(\n",
    "    embedder, cache_dir\n",
    ")\n",
    "\n",
    "vectorstore = Chroma.from_documents(docs, cache_embedder)\n",
    "\n"
   ]
  },
  {
   "cell_type": "code",
   "execution_count": null,
   "id": "87f2a31a",
   "metadata": {},
   "outputs": [
    {
     "data": {
      "text/plain": [
       "4"
      ]
     },
     "execution_count": 6,
     "metadata": {},
     "output_type": "execute_result"
    }
   ],
   "source": [
    "### Retrieve\n",
    "result = vectorstore.similarity_search(\"git add .\")\n",
    "len(result)"
   ]
  }
 ],
 "metadata": {
  "kernelspec": {
   "display_name": "env (3.11.5)",
   "language": "python",
   "name": "python3"
  },
  "language_info": {
   "codemirror_mode": {
    "name": "ipython",
    "version": 3
   },
   "file_extension": ".py",
   "mimetype": "text/x-python",
   "name": "python",
   "nbconvert_exporter": "python",
   "pygments_lexer": "ipython3",
   "version": "3.11.5"
  }
 },
 "nbformat": 4,
 "nbformat_minor": 5
}
